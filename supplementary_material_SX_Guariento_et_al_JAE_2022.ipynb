{
  "nbformat": 4,
  "nbformat_minor": 0,
  "metadata": {
    "colab": {
      "name": "supplementary_material_SX_Guariento_et_al_JAE_2022.ipynb",
      "provenance": [],
      "authorship_tag": "ABX9TyPTsKy9/5QVJNWtY6Ddy/bF",
      "include_colab_link": true
    },
    "kernelspec": {
      "name": "python3",
      "display_name": "Python 3"
    },
    "language_info": {
      "name": "python"
    }
  },
  "cells": [
    {
      "cell_type": "markdown",
      "metadata": {
        "id": "view-in-github",
        "colab_type": "text"
      },
      "source": [
        "<a href=\"https://colab.research.google.com/github/rafaelguariento/JAE_2022_appendices/blob/main/supplementary_material_SX_Guariento_et_al_JAE_2022.ipynb\" target=\"_parent\"><img src=\"https://colab.research.google.com/assets/colab-badge.svg\" alt=\"Open In Colab\"/></a>"
      ]
    },
    {
      "cell_type": "markdown",
      "source": [
        "Appendix SX for the paper: **Prey defense phenotype mediates multiple-predator effects in tri-trophic food-webs**.\n",
        "\n",
        "Journal of Animal Ecology, 2022.\n",
        "\n",
        "Rafael Dettogni Guariento, Guilherme Dalponti, Luciana Silva Carneiro and Adriano Caliman\n",
        "\n",
        "e-mail adresses: RDG: rafael.guariento@ufms.br; GD: guilhermedalponti@gmail.com; LSC: lscarnei@gmail.com; AC: caliman21@gmail.com\n",
        "\n",
        "\n",
        "\n",
        "\n"
      ],
      "metadata": {
        "id": "U7h-VeQpRKrg"
      }
    },
    {
      "cell_type": "markdown",
      "source": [
        "As an alternative approach to analyze our model, we provide here an analytical evaluation of differenctial equations representing core aspects our model formulation. Please, after reaching the paper, check the Appendix SX for more details."
      ],
      "metadata": {
        "id": "JYUGCEXSAhdF"
      }
    },
    {
      "cell_type": "code",
      "execution_count": null,
      "metadata": {
        "colab": {
          "base_uri": "https://localhost:8080/"
        },
        "id": "_5ZHmF12NjNY",
        "outputId": "ad907b56-d8b7-41f1-c883-8927bfc6b5bd"
      },
      "outputs": [
        {
          "output_type": "stream",
          "name": "stdout",
          "text": [
            "[(p_A + p_B)/f] [(Cr + beta*p_B + epsilon*p_A)/(-Cp_A + f)]\n"
          ]
        }
      ],
      "source": [
        "from sympy.solvers import solve\n",
        "from sympy import Symbol\n",
        "f = Symbol('f')\n",
        "R = Symbol('R')\n",
        "p_A = Symbol('p_A')\n",
        "p_B = Symbol('p_B')\n",
        "epsilon = Symbol('epsilon')\n",
        "beta = Symbol('beta')\n",
        "Cr = Symbol('Cr')\n",
        "Cp_A = Symbol('Cp_A')\n",
        "eq_N0 = f*R-p_A-p_B\n",
        "eq_NA = R*(f-Cp_A)- epsilon*p_A- beta*p_B-Cr\n",
        "\n",
        "R_0_eq = solve(eq_N0, R)\n",
        "R_A_eq = solve(eq_NA, R)\n",
        "\n",
        "print(R_0_eq,R_A_eq)"
      ]
    }
  ]
}